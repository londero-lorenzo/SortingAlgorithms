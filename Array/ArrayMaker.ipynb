{
 "cells": [
  {
   "cell_type": "code",
   "execution_count": null,
   "metadata": {},
   "outputs": [],
   "source": [
    "%load_ext autoreload\n",
    "%autoreload 2"
   ]
  },
  {
   "cell_type": "markdown",
   "metadata": {},
   "source": [
    "### IMPORTING FILES FROM THE PROJECT ROOT."
   ]
  },
  {
   "cell_type": "code",
   "execution_count": null,
   "metadata": {},
   "outputs": [],
   "source": [
    "import numpy as np\n",
    "\n",
    "#### --- MAKING ROOT PROJECT FOLDER VISIBLE AT SCRIPT LEVEL ---\n",
    "\n",
    "##\n",
    "## --- Finding root project folder ---\n",
    "##     (needed to import settings)\n",
    "##\n",
    "import os, sys\n",
    "def find_project_root(beacon=\"ROOT_BEACON\"):\n",
    "    current_path = os.getcwd()\n",
    "    \n",
    "    while True:\n",
    "        if os.path.isfile(os.path.join(current_path, beacon)):\n",
    "            return current_path\n",
    "        \n",
    "        parent_path = os.path.dirname(current_path)\n",
    "        if parent_path == current_path:\n",
    "            raise RuntimeError(f\"Unable to find project root.\\nNo '{beacon}' file found in any parent directory.\")\n",
    "        \n",
    "        current_path = parent_path\n",
    "\n",
    "# --- Find and set project root ---\n",
    "project_root = find_project_root()\n",
    "\n",
    "os.chdir(project_root)\n",
    "####                    --- end ---\n",
    "\n",
    "\n",
    "#### IMPORTING FROM ROOT PROJECT FOLDER \n",
    "from Utils import ArrayStorageCompressor, ArrayDataManager, ArraySettings\n",
    "from Utils import ArrayGenerator"
   ]
  },
  {
   "cell_type": "markdown",
   "metadata": {},
   "source": [
    "### CALCULATE A, B COEFFICIENTS FOR THE FORMULA   $x_i = a * b^i$"
   ]
  },
  {
   "cell_type": "code",
   "execution_count": null,
   "metadata": {},
   "outputs": [],
   "source": [
    "a = ArraySettings.ARRAY_START_KEY\n",
    "if ArraySettings.VARIABILITY.value['enable_geometric_serie']:\n",
    "    b = np.exp((np.log(ArraySettings.ARRAY_END_KEY)-np.log(ArraySettings.ARRAY_START_KEY))/(ArraySettings.NUMBER_OF_SAMPLES-1))\n",
    "else:\n",
    "    b = (ArraySettings.ARRAY_END_KEY - ArraySettings.ARRAY_START_KEY)/ArraySettings.NUMBER_OF_SAMPLES\n",
    "print(a, b)"
   ]
  },
  {
   "cell_type": "markdown",
   "metadata": {},
   "source": [
    "### CALCULATE KEYS BASED THE GEOMETRIC SERIES"
   ]
  },
  {
   "cell_type": "code",
   "execution_count": null,
   "metadata": {},
   "outputs": [],
   "source": [
    "if ArraySettings.VARIABILITY.value['enable_geometric_serie']:\n",
    "    x_i = np.array([int(np.floor(a*np.pow(b, i))) for i in range(ArraySettings.NUMBER_OF_SAMPLES)])\n",
    "else:\n",
    "    x_i = [int(a+ b*i) for i in range(ArraySettings.NUMBER_OF_SAMPLES)]\n",
    "print(x_i)"
   ]
  },
  {
   "cell_type": "markdown",
   "metadata": {},
   "source": [
    "### GENERATE AND UPLOAD DATA ON ARRAY MANAGER"
   ]
  },
  {
   "cell_type": "code",
   "execution_count": null,
   "metadata": {},
   "outputs": [],
   "source": [
    "%%time\n",
    "\n",
    "arrayManager = ArrayDataManager.ArraySampleContainer()\n",
    "parameter_builder = ArrayGenerator.setup_parameter_builder_environment()\n",
    "\n",
    "for i in range(ArraySettings.NUMBER_OF_SAMPLES):\n",
    "    sample_arguments = parameter_builder(i, x_i[i])\n",
    "    arrayManager.update({\n",
    "        int(x_i[i]): \n",
    "            ArrayDataManager.ArraySample(\n",
    "                sample= ArrayGenerator.sample(\n",
    "                            **sample_arguments.to_dict()\n",
    "                        ),\n",
    "                creation_arguments= sample_arguments,\n",
    "                variability = int(x_i[i])\n",
    "            )\n",
    "    })\n",
    "\n",
    "print(f\"[Status] Generated {len(arrayManager.keys())} samples over {ArraySettings.NUMBER_OF_SAMPLES} keys.\")\n",
    "print(f\"[Memory] Total array data size: {arrayManager.estimate_data_size_MB():.3f} MB\")"
   ]
  },
  {
   "cell_type": "markdown",
   "metadata": {},
   "source": [
    "### SAVING ARRAYS ON LOCAL FILE"
   ]
  },
  {
   "cell_type": "code",
   "execution_count": null,
   "metadata": {},
   "outputs": [],
   "source": [
    "storage_folder_path = ArraySettings.CREATE_ARRAY_STORAGE_FOLDER()\n",
    "ArrayStorageCompressor.writeOnFile(\n",
    "            data= arrayManager,\n",
    "            path= os.path.join(storage_folder_path, ArraySettings.GET_COMPRESSED_ARRAY_FILE_NAME)\n",
    "    )\n",
    "    \n",
    "ArrayStorageCompressor.writeOnFile(arrayManager.get_creation_arguments(), os.path.join(storage_folder_path, ArrayGenerator.ARRAY_GENERATION_FILE), as_json= True)\n",
    "print(f\"Array generation file location: { os.path.join(storage_folder_path, ArrayGenerator.ARRAY_GENERATION_FILE)}\")"
   ]
  }
 ],
 "metadata": {
  "language_info": {
   "name": "python"
  }
 },
 "nbformat": 4,
 "nbformat_minor": 4
}
