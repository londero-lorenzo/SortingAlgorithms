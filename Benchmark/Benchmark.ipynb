{
 "cells": [
  {
   "cell_type": "code",
   "execution_count": null,
   "id": "8f99bde9-c331-43cb-9872-e8beeb2a1aa1",
   "metadata": {
    "editable": true,
    "slideshow": {
     "slide_type": ""
    },
    "tags": []
   },
   "outputs": [],
   "source": [
    "%load_ext autoreload\n",
    "%autoreload 2"
   ]
  },
  {
   "cell_type": "markdown",
   "id": "0fc21f65-5c30-4061-a447-c74fe5b011c9",
   "metadata": {},
   "source": [
    "### IMPORTING FILES FROM THE PROJECT ROOT."
   ]
  },
  {
   "cell_type": "code",
   "execution_count": null,
   "id": "b792a230-8427-4615-a3da-2930333100c1",
   "metadata": {
    "editable": true,
    "slideshow": {
     "slide_type": ""
    },
    "tags": []
   },
   "outputs": [],
   "source": [
    "import time\n",
    "import numpy as np\n",
    "import random\n",
    "from matplotlib.markers import MarkerStyle\n",
    "from matplotlib.lines import Line2D\n",
    "from matplotlib import pyplot as plt\n",
    "\n",
    "\n",
    "#### --- IMPORTING FROM LOCAL FILES ---\n",
    "import SortingMeasurement\n",
    "import AlgoritmiDiOrdinamento\n",
    "\n",
    "#### --- MAKING ROOT PROJECT FOLDER VISIBLE AT SCRIPT LEVEL ---\n",
    "\n",
    "##\n",
    "## --- Finding root project folder ---\n",
    "##     (needed to import settings)\n",
    "##\n",
    "import os, sys\n",
    "\n",
    "def find_project_root(beacon=\"ROOT_BEACON\"):\n",
    "    current_path = os.getcwd()\n",
    "    \n",
    "    while True:\n",
    "        if os.path.isfile(os.path.join(current_path, beacon)):\n",
    "            return current_path\n",
    "        \n",
    "        parent_path = os.path.dirname(current_path)\n",
    "        if parent_path == current_path:\n",
    "            raise RuntimeError(f\"Unable to find project root.\\nNo '{beacon}' file found in any parent directory.\")\n",
    "        \n",
    "        current_path = parent_path\n",
    "\n",
    "# --- Find and set project root ---\n",
    "project_root = find_project_root()\n",
    "\n",
    "## --- Adding root porject folder to current system path ---\n",
    "if project_root not in sys.path:\n",
    "    sys.path.insert(1, project_root)\n",
    "    \n",
    "####                    --- end ---\n",
    "\n",
    "#### IMPORTING FROM ROOT PROJECT FOLDER \n",
    "from Utils import ArrayStorageCompressor, ArrayDataManager, ArraySettings, SortingSettings\n",
    "from Utils.Multiprocessing import MultiProcessing, SAFE_PROCESS_COUNT"
   ]
  },
  {
   "cell_type": "markdown",
   "id": "2b11fcf2-f759-4ad5-8fb7-b0deb377d99e",
   "metadata": {},
   "source": [
    "### LOADING DATA FROM ARRAY FOLDER"
   ]
  },
  {
   "cell_type": "code",
   "execution_count": null,
   "id": "7d7a079b-8bdc-47a6-95a4-14670389e6ac",
   "metadata": {
    "editable": true,
    "scrolled": true,
    "slideshow": {
     "slide_type": ""
    },
    "tags": []
   },
   "outputs": [],
   "source": [
    "%%time\n",
    "\n",
    "storage_folders_dict = ArraySettings.GET_COMPRESSED_ARRAY_FILES_IN_STORAGE_FOLDER(project_root) \n",
    "\n",
    "job_arguments = [\n",
    "    MultiProcessing.create_job_arguments(\n",
    "        path= os.path.join(storage_folder_path, storage_file_name),\n",
    "        return_file_name= True,\n",
    "        decompress= False\n",
    "    )\n",
    "    \n",
    "    for storage_folder_path, storage_file_names in storage_folders_dict.items()\n",
    "    for storage_file_name in storage_file_names\n",
    "]\n",
    "imported_arrays = ArrayDataManager.FoldersDataStorage()\n",
    "\n",
    "\n",
    "\n",
    "def callback(order_index, res):\n",
    "    raw_data, file_path = res\n",
    "    \n",
    "    storage_folder_path = file_path[:file_path.rfind(os.sep)]\n",
    "    imported_arrays.update(folder_path= storage_folder_path, array_sample_container= raw_data)\n",
    "\n",
    "\n",
    "multiProcc = MultiProcessing(project_root_path= project_root)\n",
    "multiProcc.startUniformMultiProcessing(ArrayStorageCompressor.readFromFile, job_arguments, callback, full_throttle= True)"
   ]
  },
  {
   "cell_type": "markdown",
   "id": "86179414-7758-4cab-a045-9dd12fa56aa6",
   "metadata": {},
   "source": [
    "### CALCULATE EXECUTION TIMES"
   ]
  },
  {
   "cell_type": "markdown",
   "id": "59e62672-b433-4c1f-8ba5-b50cacb8322a",
   "metadata": {
    "jp-MarkdownHeadingCollapsed": true
   },
   "source": [
    "##### CREATING ARRAY MANAGER OBJECT TO STORE EXECUTION TIMES"
   ]
  },
  {
   "cell_type": "markdown",
   "id": "612ded09-4efe-4b6b-bd76-57c49b433704",
   "metadata": {},
   "source": [
    "##### CREATE SUBPROCESSES TO INDIVIDUALLY CALCULATE EXECUTION TIMES"
   ]
  },
  {
   "cell_type": "code",
   "execution_count": null,
   "id": "6094388a-1573-4c2a-8fb4-68fefaa8cd7b",
   "metadata": {
    "scrolled": true
   },
   "outputs": [],
   "source": [
    "%%time\n",
    "##                 ->#     CHANGE THIS FUNCTION     #<-\n",
    "algorithms = [AlgoritmiDiOrdinamento.QuickSort] #, \n",
    "array_division = 10\n",
    "\n",
    "\n",
    "arrayTimeManager = ArrayDataManager.ExecutionTimeDataStorage()\n",
    "\n",
    "sorting_algorithm = SortingMeasurement.MeasurableTimeExecutionAlgorithm() \n",
    "def callback(result_index, result_value):\n",
    "    \n",
    "    for chunk_id, array_execution_times in result_value.items():\n",
    "        arrayTimeManager.update(\n",
    "            algorithm = chunk_id[0], \n",
    "            array_folder = chunk_id[1],\n",
    "            array_division = array_division,\n",
    "            processes_number = multiProcc.last_parallel_processes,\n",
    "            execution_times = array_execution_times\n",
    "        )\n",
    "\n",
    "job_arguments = []\n",
    "arrayTimeManager.clear()\n",
    "for algorithm in algorithms:\n",
    "    sorting_algorithm.set(algorithm)\n",
    "    ## checking algorithm...\n",
    "    assert sorting_algorithm.get() != None, f\"No sorting algorithm set, please use: SortingMeasurement.SortingAlgorithm.set('<# ALGORITHM FUNCTION #>')\"\n",
    "    \n",
    "    for folder_path in imported_arrays.get_folder_paths():\n",
    "\n",
    "        chunks = imported_arrays[folder_path].subdivideArrayUniformly(array_division)\n",
    "\n",
    "        \n",
    "        for chunk in chunks:\n",
    "            job_arguments.append(\n",
    "                MultiProcessing.create_job_arguments(\n",
    "                    chunk= {(sorting_algorithm.get_name(), folder_path): chunk},\n",
    "                    function= sorting_algorithm.execute,\n",
    "                    minTime= None\n",
    "                )\n",
    "            )\n",
    "\n",
    "\n",
    "choice = input(\"[Info] Make sure that high performance mode is enabled. \\nPress ENTER to continue or 'A' to abort...\")\n",
    "if choice == 'A':\n",
    "    raise UserWarning(\"Execution aborted by user\")\n",
    "multiProcc.startUniformMultiProcessing(SortingMeasurement.measureChunkPoolArray, job_arguments, callback, full_throttle = True, high_priority= True)\n",
    "\n",
    "## start subprocesses\n",
    "print(\"Execution times calculated!\")"
   ]
  },
  {
   "cell_type": "markdown",
   "id": "8f4088b0-aed0-44a9-91e1-337399d937c3",
   "metadata": {},
   "source": [
    "### CALCULATE PLOT POINTS USING CURRENT EXECUTION TIMES"
   ]
  },
  {
   "cell_type": "markdown",
   "id": "6261a1da-535b-429e-a31a-8b2271de94bb",
   "metadata": {},
   "source": [
    "### PLOT EXECUTION POINTS"
   ]
  },
  {
   "cell_type": "code",
   "execution_count": null,
   "id": "23f397da-4bdb-4366-a75d-43c5fdf15ce2",
   "metadata": {},
   "outputs": [],
   "source": [
    "def show_time_results(array_division, processes):\n",
    "    fig = plt.figure()\n",
    "    ax = fig.add_subplot()\n",
    "    \n",
    "    chunk_times = []\n",
    "    for algorithm, measurement_storage in arrayTimeManager.items():\n",
    "        marker_style = list(MarkerStyle.markers.keys())[random.choice([i for i in range(len(MarkerStyle.markers)-4)])]\n",
    "        line_style = str(list(Line2D.lineStyles.keys())[random.choice([i for i in range(len(Line2D.lineStyles)-3)])])\n",
    "        for i, folder_path in enumerate(measurement_storage.keys()):\n",
    "            x, y, e = [], [], []\n",
    "            last_variability = (-1, -1)\n",
    "            time_data = arrayTimeManager.get_multiprocessing_time_measurement_storage(algorithm, folder_path, array_division, processes).execution_times\n",
    "            for dict_index, array_execution in enumerate(time_data):\n",
    "                array_execution.compute_time_analysis()\n",
    "                time_analysis = array_execution.time_analysis\n",
    "                #assert last_variability[1] < metadata_dict.get_metadata()[\"variability\"], f\"Order problem: {(last_variability, metadata_dict.get_metadata()['variability'])}. Dict id: {dict_index}\"\n",
    "                last_variability = (dict_index, array_execution.get_variability())\n",
    "                x.append(array_execution.get_variability())\n",
    "                y.append(time_analysis.mean)\n",
    "                e.append(time_analysis.sd)\n",
    "            chunk_times.append(sum(y))\n",
    "            line = ax.errorbar(x, y, yerr=e, linestyle= line_style, ecolor = \"black\", marker=marker_style)\n",
    "            line.set_label(algorithm + folder_path[folder_path.rfind(\"\\\\\"):])\n",
    "    fig.suptitle(\"Execution time\", fontsize=14, fontweight=\"bold\")\n",
    "    plt.title(f\"Array division: {array_division}, processes: {processes}\")\n",
    "    ax.set_xlabel(\"Array Length\" if ArraySettings.VARIABILITY == ArraySettings.Variability.onLength else \"Different Numbers\")\n",
    "    ax.set_ylabel(\"Execution Time (s)\")\n",
    "    ax.legend()\n",
    "    #ax.errorbar(length_values, time_values, yerr=error_values, fmt=\"r--o\", ecolor = \"black\")\n",
    "    plt.show()"
   ]
  },
  {
   "cell_type": "code",
   "execution_count": null,
   "id": "cf31251d-3567-47be-a4ed-a54316e52c3d",
   "metadata": {},
   "outputs": [],
   "source": [
    "show_time_results(array_division, multiProcc.last_parallel_processes)"
   ]
  },
  {
   "cell_type": "markdown",
   "id": "8f3f8fca-6194-40d5-9977-4a9488e50f5b",
   "metadata": {},
   "source": [
    "### SAVING ARRAY MANAGER OBJECT LOCALLY"
   ]
  },
  {
   "cell_type": "code",
   "execution_count": null,
   "id": "4ef9a684-80b8-4266-b8de-20170913f51a",
   "metadata": {},
   "outputs": [],
   "source": [
    "destinationFolder = os.sep.join([project_root, SortingSettings.EXECUTION_TIMES_FOLDER])\n",
    "for algorithm in arrayTimeManager.keys():\n",
    "    destination_file = algorithm + SortingSettings.EXECUTION_TIMES_FILE_EXTENSION\n",
    "    destination_file_path = os.sep.join([destinationFolder, destination_file])\n",
    "    if os.path.exists(destination_file_path):\n",
    "        algorithm_arrayTimeManager = ArrayStorageCompressor.readFromFile(destination_file_path, decompress= False)\n",
    "        algorithm_arrayTimeManager.merge({algorithm: arrayTimeManager[algorithm]})\n",
    "        print(f\"Updating existing file at {destination_file_path}\")\n",
    "        data_to_save = algorithm_arrayTimeManager\n",
    "    else:\n",
    "        data_to_save = ArrayDataManager.ExecutionTimeDataStorage({algorithm: arrayTimeManager[algorithm]})\n",
    "    \n",
    "    ArrayStorageCompressor.writeOnFile(data_to_save, destination_file_path)\n",
    "    print(f\"Execution timing data saved at {destination_file_path}\")"
   ]
  }
 ],
 "metadata": {
  "kernelspec": {
   "display_name": "Python 3 (ipykernel)",
   "language": "python",
   "name": "python3"
  },
  "language_info": {
   "codemirror_mode": {
    "name": "ipython",
    "version": 3
   },
   "file_extension": ".py",
   "mimetype": "text/x-python",
   "name": "python",
   "nbconvert_exporter": "python",
   "pygments_lexer": "ipython3",
   "version": "3.11.5"
  }
 },
 "nbformat": 4,
 "nbformat_minor": 5
}
