{
 "cells": [
  {
   "cell_type": "code",
   "execution_count": null,
   "id": "acc00a92-fd89-4a1e-a413-9b8a3ef048e5",
   "metadata": {},
   "outputs": [],
   "source": [
    "%load_ext autoreload\n",
    "%autoreload 2"
   ]
  },
  {
   "cell_type": "code",
   "execution_count": null,
   "id": "36c76164-3e92-4aa8-8853-0f34a677bf3a",
   "metadata": {},
   "outputs": [],
   "source": [
    "### IMPORTING FILES FROM THE PROJECT ROOT.\n",
    "\n",
    "import numpy as np\n",
    "import plotly.graph_objects as go\n",
    "\n",
    "#### --- MAKING ROOT PROJECT FOLDER VISIBLE AT SCRIPT LEVEL ---\n",
    "\n",
    "##\n",
    "## --- Finding root project folder ---\n",
    "##     (needed to import settings)\n",
    "##\n",
    "import os, sys\n",
    "def find_project_root(beacon=\"ROOT_BEACON\"):\n",
    "    current_path = os.getcwd()\n",
    "    \n",
    "    while True:\n",
    "        if os.path.isfile(os.path.join(current_path, beacon)):\n",
    "            return current_path\n",
    "        \n",
    "        parent_path = os.path.dirname(current_path)\n",
    "        if parent_path == current_path:\n",
    "            raise RuntimeError(f\"Unable to find project root.\\nNo '{beacon}' file found in any parent directory.\")\n",
    "        \n",
    "        current_path = parent_path\n",
    "\n",
    "# --- Find and set project root ---\n",
    "project_root = find_project_root()\n",
    "\n",
    "\n",
    "## --- Adding root porject folder to current system path ---\n",
    "if project_root not in sys.path:\n",
    "    sys.path.insert(1, project_root)\n",
    "    \n",
    "####                    --- end ---\n",
    "\n",
    "\n",
    "#### IMPORTING FROM ROOT PROJECT FOLDER \n",
    "from Utils import ArraySettings, SortingSettings\n",
    "from Utils import ArrayDataManager\n",
    "from Utils import ArrayStorageCompressor\n",
    "\n",
    "## --- Updating the execution times storage folder ---\n",
    "if project_root not in SortingSettings.EXECUTION_TIMES_FOLDER:\n",
    "    SortingSettings.EXECUTION_TIMES_FOLDER = os.sep.join([project_root, SortingSettings.EXECUTION_TIMES_FOLDER])\n",
    "    SortingSettings.EXECUTION_TIMES_GRAPH_FOLDER = os.sep.join([project_root, SortingSettings.EXECUTION_TIMES_GRAPH_FOLDER])\n",
    "\n",
    "    assert os.path.exists(SortingSettings.EXECUTION_TIMES_FOLDER), f\"Execution times folder does not exists. \\nCurrent location set: {SortingSettings.EXECUTION_TIMES_FOLDER}\"\n",
    "\n",
    "    EXECUTION_TIMES_GRAPH_FOLDER_LOGARITMIC = os.sep.join([SortingSettings.EXECUTION_TIMES_GRAPH_FOLDER, \"logaritmic\"])\n",
    "    EXECUTION_TIMES_GRAPH_FOLDER_LINEAR = os.sep.join([SortingSettings.EXECUTION_TIMES_GRAPH_FOLDER, \"linear\"])\n",
    "    \n",
    "    if not os.path.exists(EXECUTION_TIMES_GRAPH_FOLDER_LOGARITMIC):\n",
    "        os.makedirs(EXECUTION_TIMES_GRAPH_FOLDER_LOGARITMIC)\n",
    "\n",
    "    if not os.path.exists(EXECUTION_TIMES_GRAPH_FOLDER_LINEAR):\n",
    "        os.makedirs(EXECUTION_TIMES_GRAPH_FOLDER_LINEAR)\n",
    "    \n"
   ]
  },
  {
   "cell_type": "markdown",
   "id": "1517e7b3-b567-4cb7-9bd2-25c0a7c6be43",
   "metadata": {},
   "source": [
    "### LOADING DATA FROM TIME FOLDER"
   ]
  },
  {
   "cell_type": "code",
   "execution_count": null,
   "id": "3cf2fc69-823a-4dcf-9a91-db04c215fa49",
   "metadata": {},
   "outputs": [],
   "source": [
    "SortingSettings.EXECUTION_TIMES_FOLDER"
   ]
  },
  {
   "cell_type": "code",
   "execution_count": null,
   "id": "82ec3d9f-1155-48f2-801d-eb6d88f41c36",
   "metadata": {},
   "outputs": [],
   "source": [
    "arrayTimeManager = ArrayDataManager.ExecutionTimeDataStorage()\n",
    "\n",
    "\n",
    "\n",
    "for file in os.listdir(SortingSettings.EXECUTION_TIMES_FOLDER):\n",
    "    if SortingSettings.EXECUTION_TIMES_FILE_EXTENSION in file:\n",
    "        \n",
    "        full_path_file = os.path.join(SortingSettings.EXECUTION_TIMES_FOLDER, file)\n",
    "        algorithm_name = file[0:file.find(SortingSettings.EXECUTION_TIMES_FILE_EXTENSION)]\n",
    "        read_execution_time_storage = ArrayStorageCompressor.readFromFile(full_path_file)\n",
    "        assert len(read_execution_time_storage.keys()) == 1, f\"Expected only one algorithm key in file {full_path_file}, got {read_execution_time_storage.keys()}\"\n",
    "        assert algorithm_name in read_execution_time_storage, f\"Expected {algorithm_name} as key in file {full_path_file}, got {read_execution_time_storage.keys()}\"\n",
    "\n",
    "        arrayTimeManager.merge(read_execution_time_storage)\n",
    "        \n"
   ]
  },
  {
   "cell_type": "code",
   "execution_count": null,
   "id": "1a92ccf3-126a-44ea-a232-efb8e32e26f1",
   "metadata": {},
   "outputs": [],
   "source": [
    "arrayTimeManager.get_folders_intersection([\"QuickSort3Way\"])"
   ]
  },
  {
   "cell_type": "markdown",
   "id": "05904c7f-806a-4a5c-b03d-10b736374131",
   "metadata": {},
   "source": [
    "## DEFINITION OF FUNCTIONS USED TO SHOW TIME DATA"
   ]
  },
  {
   "cell_type": "markdown",
   "id": "d5f6b9cd-4951-4210-84c4-b0e1038e4a7d",
   "metadata": {},
   "source": [
    "### FUNCTION TO CALCULATE PLOT POINTS USING ARRAY MANAGER LOADED"
   ]
  },
  {
   "cell_type": "code",
   "execution_count": null,
   "id": "9c14e9c2-5074-4e69-8766-ca801b5508e7",
   "metadata": {},
   "outputs": [],
   "source": []
  },
  {
   "cell_type": "code",
   "execution_count": null,
   "id": "db03d4d7-93db-48a2-b38c-2d1219973b75",
   "metadata": {},
   "outputs": [],
   "source": [
    "def calculatePoints(timeManager):\n",
    "    length_values = [] ## x-values\n",
    "    time_values = [] ## y-values\n",
    "    error_values = [] ## error-values\n",
    "    \n",
    "    for arrayLength in timeManager.getKeys(toSort = True):\n",
    "        executionTimeData = timeManager.get(arrayLength)\n",
    "    \n",
    "        executionTimeMean = np.mean(executionTimeData)\n",
    "    \n",
    "        executionTimeData_2 = np.mean(np.pow(executionTimeData, 2))\n",
    "        executionTimeMean_2 = np.pow(executionTimeMean, 2)\n",
    "    \n",
    "        executionTimeVariance = executionTimeData_2 - executionTimeMean_2\n",
    "        \n",
    "        time_values.append(executionTimeMean)\n",
    "        length_values.append(arrayLength)\n",
    "        error_values.append(np.sqrt(executionTimeVariance))\n",
    "\n",
    "    return length_values, time_values, error_values"
   ]
  },
  {
   "cell_type": "markdown",
   "id": "3a6f950d-0381-41bf-9aa9-6061e0075090",
   "metadata": {},
   "source": [
    "### DEFINITION OF FUNCTION USED TO COMPUTE THE PLOTTING DATA"
   ]
  },
  {
   "cell_type": "code",
   "execution_count": null,
   "id": "33969763-07ce-4122-b5a0-bd14547c5b08",
   "metadata": {},
   "outputs": [],
   "source": [
    "arrayTimeManager[\"QuickSort\"][list(arrayTimeManager[\"QuickSort\"].keys())[0]]"
   ]
  },
  {
   "cell_type": "code",
   "execution_count": null,
   "id": "8d9b6327-e7c1-453b-a847-7218b20a4b44",
   "metadata": {},
   "outputs": [],
   "source": [
    "def computePlotData(algorithmName):\n",
    "    traces = []\n",
    "    for storage_path, multiprocessing_measurements in arrayTimeManager[algorithmName].items():\n",
    "        storage_name = storage_path[storage_path.rfind(os.sep):]\n",
    "        for processes_measurement in multiprocessing_measurements:\n",
    "            array_chunks, processes = processes_measurement.to_tuple()\n",
    "            x = []\n",
    "            y = []\n",
    "            err_plus = []\n",
    "            err_minus = []\n",
    "            for execution_time in processes_measurement.execution_times:\n",
    "                variability_value = execution_time.get_variability()\n",
    "                time_analysis = execution_time.get_time_analysis()\n",
    "                mean = time_analysis.mean\n",
    "                q01, q99 = time_analysis.quantiles[0.01], time_analysis.quantiles[0.99]\n",
    "                x.append(variability_value)\n",
    "                y.append(mean)\n",
    "                err_plus.append(q99 - mean)\n",
    "                err_minus.append(mean - q01)\n",
    "            trace_name = f\"{storage_path[storage_path.rfind(os.sep):]}\\n({array_chunks} chunk, {processes} proc)\"\n",
    "            traces.append(go.Scatter(\n",
    "                                x = x,\n",
    "                                y = y,\n",
    "                                text=[f\"({array_chunks} chunk, {processes} proc)\"] * len(x),\n",
    "                                color = algorithmName,\n",
    "                \n",
    "                                error_y = dict(\n",
    "                                    type = 'data',\n",
    "                                    symmetric=False,\n",
    "                                    array = err_plus,\n",
    "                                    arrayminus = err_minus,\n",
    "                                    visible = True),\n",
    "                                name = algorithmName,\n",
    "                                legendgroup= trace_name,\n",
    "                                legendgrouptitle_text= trace_name,\n",
    "                                line_dash = storage_name,\n",
    "                                symbol =f\"({array_chunks} chunk, {processes} proc)\",\n",
    "                                markers = True,\n",
    "                                #marker=dict(size=6, symbol=\"circle\", line=dict(width=1, color=\"DarkSlateGrey\")),\n",
    "                                mode = \"lines+markers\",\n",
    "                                hovertemplate =\n",
    "                                                '%{y:.4s}s ± (%{error_y.array:.4s}, %{error_y.arrayminus:.4s})s %{text}' +\n",
    "                                                '<extra></extra>' ## 'extra' keyword removes trace category   \n",
    "                            )\n",
    "                         )\n",
    "    return traces"
   ]
  },
  {
   "cell_type": "markdown",
   "id": "396e3e7e-aa26-4f2d-b41b-6884163065d8",
   "metadata": {},
   "source": [
    "### DEFINITION OF THE FUNCTION USED TO CREATE THE GRAPH LAYOUT"
   ]
  },
  {
   "cell_type": "code",
   "execution_count": null,
   "id": "56860505-762a-4dbc-bdd8-10663167b016",
   "metadata": {},
   "outputs": [],
   "source": [
    "def createLayout(log= False):\n",
    "\n",
    "    axis_type = \"linear\" if not log else \"log\"\n",
    "    \n",
    "    return go.Layout(\n",
    "        height = 700,\n",
    "        title = dict(\n",
    "            text = \"Execution Times\",\n",
    "            font = dict(\n",
    "                size= 30\n",
    "            ),\n",
    "            subtitle=dict(\n",
    "                text = \"Run times grouped by sorting algorithm showed in a {type}-{type} graph.\".format(type= axis_type),\n",
    "                font = dict(color=\"dimgrey\", size=16)\n",
    "            )\n",
    "        ),\n",
    "    \n",
    "        xaxis = dict(\n",
    "            title = dict(\n",
    "                text = (\"Array length\" if ArraySettings.VARIABILITY == ArraySettings.Variability.onLength else \"Different numbers\") + \" <i>{type}</i>\".format(type= \"n\" if not log else \"log(n)\"),\n",
    "                font=dict(size = 18)\n",
    "            ),\n",
    "            type = axis_type,\n",
    "            hoverformat = \".5s\"\n",
    "        ),\n",
    "        \n",
    "        yaxis = dict(\n",
    "            title = dict(\n",
    "                text = \"Execution time <i>{type}</i>\".format(type= \"s\" if not log else \"log(s)\"),\n",
    "                font=dict(size = 18)\n",
    "            ),\n",
    "            type = axis_type,\n",
    "        ),\n",
    "        \n",
    "        legend = dict(\n",
    "            title = dict(\n",
    "                text = \"Algorithms\"\n",
    "            ),\n",
    "            font=dict(size = 14),\n",
    "            groupclick='toggleitem',\n",
    "            itemdoubleclick='toggleothers'\n",
    "        ),\n",
    "        \n",
    "        font=dict(\n",
    "            family=\"Georgia\",\n",
    "            color = \"black\",\n",
    "            size=18,\n",
    "        ),\n",
    "        \n",
    "        hoverlabel = dict(\n",
    "            font = dict(\n",
    "                size = 14,\n",
    "                family = \"monospace\"\n",
    "            )\n",
    "        ),\n",
    "        \n",
    "        hovermode=\"x unified\"\n",
    "    )"
   ]
  },
  {
   "cell_type": "markdown",
   "id": "a064510b-abd6-4cb6-b142-823c3ca77d59",
   "metadata": {},
   "source": [
    "### PLOT EXECUTION POINTS GROUPED BY SORTING ALGORITHM"
   ]
  },
  {
   "cell_type": "markdown",
   "id": "f1c7888e-b11e-4b6f-8e16-8698aac90cb7",
   "metadata": {},
   "source": [
    "### COLLECTING TIMING DATA FROM TIME MANAGER"
   ]
  },
  {
   "cell_type": "code",
   "execution_count": null,
   "id": "eb836a14-03ab-4ad3-912b-182049784a8a",
   "metadata": {},
   "outputs": [],
   "source": [
    "list(data.values())[-2][0]"
   ]
  },
  {
   "cell_type": "code",
   "execution_count": null,
   "id": "00d60ae0-f377-45f8-90e6-749b8b873685",
   "metadata": {},
   "outputs": [],
   "source": [
    "\n",
    "data = {}\n",
    "layout = createLayout(log = False)\n",
    "fig = go.Figure(layout = layout)\n",
    "for algorithmName in list(arrayTimeManager.keys()):\n",
    "    data.update({algorithmName: computePlotData(algorithmName)})\n",
    "    for trace in data[algorithmName]:\n",
    "        fig.add_trace(trace)\n",
    "\n",
    "\n",
    "fig.show()"
   ]
  },
  {
   "cell_type": "markdown",
   "id": "627e7f68-3320-476a-acb7-b37642aaeed4",
   "metadata": {},
   "source": [
    "### WRITE ON FILE"
   ]
  },
  {
   "cell_type": "code",
   "execution_count": null,
   "id": "d96ee57b-dc5e-4571-ad22-003f950092ec",
   "metadata": {},
   "outputs": [],
   "source": [
    "algorithmNames = list(arrayTimeManager.keys())\n",
    "for b in [False, True]:\n",
    "    layout = createLayout(log = b)\n",
    "    \n",
    "    for i, algorithmName in enumerate(algorithmNames):\n",
    "        for e in range(i, len(algorithmNames)):\n",
    "            pair_data = [data[algorithmNames[i]]]\n",
    "            if i != e:\n",
    "                fileName = f\"{algorithmName}__vs__{algorithmNames[e]}\"\n",
    "                pair_data.append(data[algorithmNames[e]])\n",
    "            else:\n",
    "                fileName = f\"{algorithmName}\"\n",
    "            fileName += \".svg\"\n",
    "            \n",
    "            fig = go.Figure(data=pair_data, layout = layout)\n",
    "            fig.write_image(os.sep.join([EXECUTION_TIMES_GRAPH_FOLDER_LINEAR if not b else EXECUTION_TIMES_GRAPH_FOLDER_LOGARITMIC, fileName]), width=1500, height=900, scale= 4)\n",
    "    "
   ]
  }
 ],
 "metadata": {
  "language_info": {
   "name": "python"
  }
 },
 "nbformat": 4,
 "nbformat_minor": 5
}
