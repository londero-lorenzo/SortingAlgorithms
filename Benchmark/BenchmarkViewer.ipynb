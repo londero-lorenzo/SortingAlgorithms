{
 "cells": [
  {
   "cell_type": "code",
   "execution_count": null,
   "id": "acc00a92-fd89-4a1e-a413-9b8a3ef048e5",
   "metadata": {},
   "outputs": [],
   "source": [
    "%load_ext autoreload\n",
    "%autoreload 2"
   ]
  },
  {
   "cell_type": "code",
   "execution_count": null,
   "id": "36c76164-3e92-4aa8-8853-0f34a677bf3a",
   "metadata": {},
   "outputs": [],
   "source": [
    "### IMPORTING FILES FROM THE PROJECT ROOT.\n",
    "\n",
    "import numpy as np\n",
    "import plotly.graph_objects as go\n",
    "\n",
    "#### --- MAKING ROOT PROJECT FOLDER VISIBLE AT SCRIPT LEVEL ---\n",
    "\n",
    "##\n",
    "## --- Finding root project folder ---\n",
    "##     (needed to import settings)\n",
    "##\n",
    "import os, sys\n",
    "def find_project_root(beacon=\"ROOT_BEACON\"):\n",
    "    current_path = os.getcwd()\n",
    "    \n",
    "    while True:\n",
    "        if os.path.isfile(os.path.join(current_path, beacon)):\n",
    "            return current_path\n",
    "        \n",
    "        parent_path = os.path.dirname(current_path)\n",
    "        if parent_path == current_path:\n",
    "            raise RuntimeError(f\"Unable to find project root.\\nNo '{beacon}' file found in any parent directory.\")\n",
    "        \n",
    "        current_path = parent_path\n",
    "\n",
    "# --- Find and set project root ---\n",
    "project_root = find_project_root()\n",
    "\n",
    "\n",
    "## --- Adding root porject folder to current system path ---\n",
    "os.chdir(project_root)\n",
    "    \n",
    "####                    --- end ---\n",
    "\n",
    "\n",
    "#### IMPORTING FROM ROOT PROJECT FOLDER \n",
    "from Utils import ArraySettings, SortingSettings\n",
    "from Utils import ArrayDataManager\n",
    "from Utils import ArrayStorageCompressor\n",
    "\n",
    "## --- Updating the execution times storage folder ---\n",
    "if project_root not in SortingSettings.EXECUTION_TIMES_FOLDER:\n",
    "    SortingSettings.EXECUTION_TIMES_FOLDER = os.sep.join([project_root, SortingSettings.EXECUTION_TIMES_FOLDER])\n",
    "    SortingSettings.EXECUTION_TIMES_GRAPH_FOLDER = os.sep.join([project_root, SortingSettings.EXECUTION_TIMES_GRAPH_FOLDER])\n",
    "\n",
    "    assert os.path.exists(SortingSettings.EXECUTION_TIMES_FOLDER), f\"Execution times folder does not exists. \\nCurrent location set: {SortingSettings.EXECUTION_TIMES_FOLDER}\"\n",
    "\n",
    "    EXECUTION_TIMES_GRAPH_FOLDER_LOGARITMIC = os.sep.join([SortingSettings.EXECUTION_TIMES_GRAPH_FOLDER, \"logaritmic\"])\n",
    "    EXECUTION_TIMES_GRAPH_FOLDER_LINEAR = os.sep.join([SortingSettings.EXECUTION_TIMES_GRAPH_FOLDER, \"linear\"])\n",
    "    \n",
    "    if not os.path.exists(EXECUTION_TIMES_GRAPH_FOLDER_LOGARITMIC):\n",
    "        os.makedirs(EXECUTION_TIMES_GRAPH_FOLDER_LOGARITMIC)\n",
    "\n",
    "    if not os.path.exists(EXECUTION_TIMES_GRAPH_FOLDER_LINEAR):\n",
    "        os.makedirs(EXECUTION_TIMES_GRAPH_FOLDER_LINEAR)\n",
    "    \n"
   ]
  },
  {
   "cell_type": "markdown",
   "id": "1517e7b3-b567-4cb7-9bd2-25c0a7c6be43",
   "metadata": {},
   "source": [
    "### LOADING DATA FROM TIME FOLDER"
   ]
  },
  {
   "cell_type": "code",
   "execution_count": null,
   "id": "82ec3d9f-1155-48f2-801d-eb6d88f41c36",
   "metadata": {},
   "outputs": [],
   "source": [
    "arrayTimeManager = ArrayDataManager.ExecutionTimeDataStorage()\n",
    "\n",
    "\n",
    "\n",
    "for file in os.listdir(SortingSettings.EXECUTION_TIMES_FOLDER):\n",
    "    if SortingSettings.EXECUTION_TIMES_FILE_EXTENSION in file:\n",
    "        \n",
    "        full_path_file = os.path.join(SortingSettings.EXECUTION_TIMES_FOLDER, file)\n",
    "        algorithm_name = file[0:file.find(SortingSettings.EXECUTION_TIMES_FILE_EXTENSION)]\n",
    "        read_execution_time_storage = ArrayStorageCompressor.readFromFile(full_path_file)\n",
    "        assert len(read_execution_time_storage.keys()) == 1, f\"Expected only one algorithm key in file {full_path_file}, got {read_execution_time_storage.keys()}\"\n",
    "        assert algorithm_name in read_execution_time_storage, f\"Expected {algorithm_name} as key in file {full_path_file}, got {read_execution_time_storage.keys()}\"\n",
    "\n",
    "        arrayTimeManager.merge(read_execution_time_storage)\n",
    "        \n"
   ]
  },
  {
   "cell_type": "markdown",
   "id": "05904c7f-806a-4a5c-b03d-10b736374131",
   "metadata": {},
   "source": [
    "## DEFINITION OF FUNCTIONS USED TO SHOW TIME DATA"
   ]
  },
  {
   "cell_type": "markdown",
   "id": "3a6f950d-0381-41bf-9aa9-6061e0075090",
   "metadata": {},
   "source": [
    "### DEFINITION OF FUNCTION USED TO COMPUTE THE PLOTTING DATA"
   ]
  },
  {
   "cell_type": "code",
   "execution_count": null,
   "id": "8d9b6327-e7c1-453b-a847-7218b20a4b44",
   "metadata": {},
   "outputs": [],
   "source": [
    "def computePlotData(algorithmName):\n",
    "    data = {}\n",
    "    for storage_path, execution_times in arrayTimeManager[algorithmName].items():\n",
    "        for execution_time in execution_times:\n",
    "            variability_value = execution_time.get_variability()\n",
    "            if variability_value not in data:\n",
    "                data[variability_value] = []\n",
    "            data[variability_value].extend(\n",
    "            execution_time.sample)\n",
    "            \n",
    "    x = []\n",
    "    y = []\n",
    "    e = []\n",
    "    for variability, execution_times in data.items():\n",
    "        x.append(variability)\n",
    "        y.append(np.mean(execution_times))\n",
    "        sd   = np.array(execution_times).std(ddof=1)\n",
    "        sem  = sd / np.sqrt(len(execution_times))\n",
    "        ci95 = 1.96 * sem \n",
    "        e.append(ci95)\n",
    "\n",
    "    return go.Scatter(\n",
    "                x = x,\n",
    "                y = y,\n",
    "                error_y = dict(\n",
    "                    type = 'data',\n",
    "                    symmetric=True,\n",
    "                    array = e,\n",
    "                    visible = True),\n",
    "                name = algorithmName,\n",
    "                marker=dict(size=6, symbol=\"circle\", line=dict(width=1, color=\"DarkSlateGrey\")),\n",
    "                mode = \"lines+markers\",\n",
    "                hovertemplate =\n",
    "                                '%{y:.4s}s ± %{error_y.array:.4s}s' +\n",
    "                                '' ## 'extra' keyword removes trace category   \n",
    "                )"
   ]
  },
  {
   "cell_type": "markdown",
   "id": "396e3e7e-aa26-4f2d-b41b-6884163065d8",
   "metadata": {},
   "source": [
    "### DEFINITION OF THE FUNCTION USED TO CREATE THE GRAPH LAYOUT"
   ]
  },
  {
   "cell_type": "code",
   "execution_count": null,
   "id": "56860505-762a-4dbc-bdd8-10663167b016",
   "metadata": {},
   "outputs": [],
   "source": [
    "def createLayout(log= False):\n",
    "\n",
    "    axis_type = \"linear\" if not log else \"log\"\n",
    "    \n",
    "    return go.Layout(\n",
    "        height = 700,\n",
    "        title = dict(\n",
    "            text = \"Execution Times\",\n",
    "            font = dict(\n",
    "                size= 30\n",
    "            ),\n",
    "            subtitle=dict(\n",
    "                text = \"Run times grouped by sorting algorithm showed in a {type}-{type} graph.\".format(type= axis_type),\n",
    "                font = dict(color=\"dimgrey\", size=16)\n",
    "            )\n",
    "        ),\n",
    "    \n",
    "        xaxis = dict(\n",
    "            title = dict(\n",
    "                text = (ArraySettings.VARIABILITY.value[\"nice_name\"]) + \" <i>{type}</i>\".format(type= \"n\" if not log else \"log(n)\"),\n",
    "                font=dict(size = 18)\n",
    "            ),\n",
    "            type = axis_type,\n",
    "            hoverformat = \".5s\"\n",
    "        ),\n",
    "        \n",
    "        yaxis = dict(\n",
    "            title = dict(\n",
    "                text = \"Execution time <i>{type}</i>\".format(type= \"s\" if not log else \"log(s)\"),\n",
    "                font=dict(size = 18)\n",
    "            ),\n",
    "            type = axis_type,\n",
    "        ),\n",
    "        \n",
    "        legend = dict(\n",
    "            title = dict(\n",
    "                text = \"Algorithms\"\n",
    "            ),\n",
    "            font=dict(size = 14),\n",
    "            groupclick='toggleitem',\n",
    "            itemdoubleclick='toggleothers'\n",
    "        ),\n",
    "        \n",
    "        font=dict(\n",
    "            family=\"Georgia\",\n",
    "            color = \"black\",\n",
    "            size=18,\n",
    "        ),\n",
    "        \n",
    "        hoverlabel = dict(\n",
    "            font = dict(\n",
    "                size = 14,\n",
    "                family = \"monospace\"\n",
    "            )\n",
    "        ),\n",
    "        \n",
    "        hovermode=\"x unified\",\n",
    "\n",
    "        meta = dict(\n",
    "            variability= ArraySettings.VARIABILITY.value[\"nice_name\"],\n",
    "            scale= \"logaritmic\" if log else \"linear\"\n",
    "        )\n",
    "    )"
   ]
  },
  {
   "cell_type": "markdown",
   "id": "a064510b-abd6-4cb6-b142-823c3ca77d59",
   "metadata": {},
   "source": [
    "### PLOT EXECUTION POINTS GROUPED BY SORTING ALGORITHM"
   ]
  },
  {
   "cell_type": "markdown",
   "id": "f1c7888e-b11e-4b6f-8e16-8698aac90cb7",
   "metadata": {},
   "source": [
    "### COLLECTING TIMING DATA FROM TIME MANAGER"
   ]
  },
  {
   "cell_type": "code",
   "execution_count": null,
   "id": "00d60ae0-f377-45f8-90e6-749b8b873685",
   "metadata": {},
   "outputs": [],
   "source": [
    "data = {}\n",
    "layout = createLayout(log = False)\n",
    "fig = go.Figure(layout = layout)\n",
    "for algorithmName in list(arrayTimeManager.keys()):\n",
    "    trace = computePlotData(algorithmName)\n",
    "    data[algorithmName] = trace\n",
    "    fig.add_trace(trace)\n",
    "        \n",
    "fig.show()"
   ]
  },
  {
   "cell_type": "markdown",
   "id": "627e7f68-3320-476a-acb7-b37642aaeed4",
   "metadata": {},
   "source": [
    "### WRITE ON FILE"
   ]
  },
  {
   "cell_type": "code",
   "execution_count": null,
   "id": "d96ee57b-dc5e-4571-ad22-003f950092ec",
   "metadata": {},
   "outputs": [],
   "source": [
    "algorithmNames = list(arrayTimeManager.keys())\n",
    "\n",
    "for log in [False, True]:\n",
    "    destination_folder = EXECUTION_TIMES_GRAPH_FOLDER_LINEAR if not log else EXECUTION_TIMES_GRAPH_FOLDER_LOGARITMIC\n",
    "    os.makedirs(destination_folder, exist_ok= True)\n",
    "    layout = createLayout(log = log)\n",
    "    fig = go.Figure(layout= layout)\n",
    "    for alg, trace in data.items():\n",
    "        fig.add_trace(trace)\n",
    "    file_name = \"figure.fig\"\n",
    "    ArrayStorageCompressor.writeOnFile(fig, os.path.join(destination_folder, file_name))"
   ]
  }
 ],
 "metadata": {
  "language_info": {
   "name": "python"
  }
 },
 "nbformat": 4,
 "nbformat_minor": 5
}
